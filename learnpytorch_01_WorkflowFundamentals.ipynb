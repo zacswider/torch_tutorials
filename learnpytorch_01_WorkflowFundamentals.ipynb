{
 "cells": [
  {
   "cell_type": "markdown",
   "metadata": {},
   "source": [
    "The essence of machine learning is to take some data from the past, use (and maybe build) and algorithm to discover patterns in those data, and then use that algorithm to predict the future. "
   ]
  },
  {
   "cell_type": "markdown",
   "metadata": {},
   "source": [
    "# linear"
   ]
  },
  {
   "cell_type": "code",
   "execution_count": 1,
   "metadata": {},
   "outputs": [
    {
     "name": "stdout",
     "output_type": "stream",
     "text": [
      "using version 1.12.1\n"
     ]
    }
   ],
   "source": [
    "import torch\n",
    "from torch import nn\n",
    "import matplotlib.pyplot as plt\n",
    "\n",
    "print(f'using version {torch.__version__}')\n"
   ]
  },
  {
   "cell_type": "markdown",
   "metadata": {},
   "source": [
    "### Preparing and loading data\n",
    "\n",
    "#### There are two basic parts to training a model:\n",
    "- Turn your data into numbers\n",
    "- Pick or build a model that can learn from those numbers\n",
    "\n",
    "Here we will use linear regression to create data with known parameters, and then create a model to learn those parameters."
   ]
  },
  {
   "cell_type": "code",
   "execution_count": 2,
   "metadata": {},
   "outputs": [
    {
     "name": "stdout",
     "output_type": "stream",
     "text": [
      "Shape of X is torch.Size([50])\n",
      "Shape of X is torch.Size([50, 1])\n",
      "tensor([[0.0000],\n",
      "        [0.0200],\n",
      "        [0.0400],\n",
      "        [0.0600],\n",
      "        [0.0800]])\n",
      "tensor([[0.3000],\n",
      "        [0.3140],\n",
      "        [0.3280],\n",
      "        [0.3420],\n",
      "        [0.3560]])\n"
     ]
    }
   ],
   "source": [
    "# 'Known\" parameters:\n",
    "weight = 0.7\n",
    "bias = 0.3\n",
    "\n",
    "# Generate some data\n",
    "start = 0\n",
    "end = 1\n",
    "step = 0.02\n",
    "''' \n",
    " A couple things to point out here:\n",
    " 1) X is capitalized because X generally refers to a matrix \n",
    " 2) We need unsqueeze here (without it we would have a vector) but I'm not sure why.\n",
    " 3) The linear regression equation is y = (weight)*x + bias\n",
    "'''\n",
    "X = torch.arange(start, end, step)\n",
    "print(f'Shape of X is {X.shape}')\n",
    "X = X.unsqueeze(dim=1)\n",
    "print(f'Shape of X is {X.shape}')\n",
    "y = X * weight + bias\n",
    "\n",
    "# let's view the first 5 values from each matrix:\n",
    "print(X[:5])\n",
    "print(y[:5])"
   ]
  },
  {
   "cell_type": "code",
   "execution_count": null,
   "metadata": {},
   "outputs": [],
   "source": []
  },
  {
   "cell_type": "markdown",
   "metadata": {},
   "source": [
    "Now we have `X`(features) and `y`(labels) so we can begin building a model that will learn the relationship between `X` and `y`.\n",
    "\n",
    "### Train Test Split\n",
    "\n",
    "#### Training data\n",
    "- `Amount:` 60-90% of the data\n",
    "- `Required?` Yes\n",
    "- The model learns from this data. There is no learning without training data. After each epoch, the model loss is calculated based on the training data and the model parameters are adjusted accordingly.\n",
    "\n",
    "#### Validation data\n",
    "- `Amount:` 10-20% of the data\n",
    "- `Required?` Usually, but not always\n",
    "- The validation data is used during training to evaluate the ability of the model to generalize. The model loss is also calculated from the validation data, but the model parameters are `not` adjusted as a consequence. The validation loss is used to determine when to stop training. If the validation loss starts to increase, it is a sign that the model is overfitting and we should stop training.\n",
    "\n",
    "#### Test data\n",
    "- `Amount:` 10-20% of the data\n",
    "- `Required?` Yes\n",
    "- The test data is used to evaluate the final model. The test data is only used once, after the model has been trained. The test data is not used to adjust the model parameters or to determine when to stop training. The test data is used to evaluate the model's ability to generalize to new data.\n",
    "\n",
    "For this project we won't use a validation set. We will just train on the training data and test and the test data. To start, let's split the test and train data:"
   ]
  },
  {
   "cell_type": "code",
   "execution_count": 9,
   "metadata": {},
   "outputs": [
    {
     "name": "stdout",
     "output_type": "stream",
     "text": [
      "40 40 10 10\n"
     ]
    }
   ],
   "source": [
    "# test train split:\n",
    "train_split = int(0.8 * len(X))\n",
    "X_train = X[:train_split]\n",
    "y_train = y[:train_split]\n",
    "X_test = X[train_split:]\n",
    "y_test = y[train_split:]\n",
    "\n",
    "print(len(X_train), len(y_train), len(X_test), len(y_test))"
   ]
  },
  {
   "cell_type": "code",
   "execution_count": 103,
   "metadata": {},
   "outputs": [
    {
     "data": {
      "image/png": "[encoded data removed]",
      "text/plain": [
       "<Figure size 640x480 with 1 Axes>"
      ]
     },
     "metadata": {},
     "output_type": "display_data"
    }
   ],
   "source": [
    "# let's create a function to plot the data:\n",
    "\n",
    "def plot_data(train_data = X_train,\n",
    "              train_labels = y_train,\n",
    "              test_data = X_test,\n",
    "              test_labels = y_test,\n",
    "              predictions = None,\n",
    "              save = False,\n",
    "              epoch_num = 0):\n",
    "    fig, ax = plt.subplots()\n",
    "    ax.scatter(train_data, train_labels, c='b', label='Training Data')\n",
    "    ax.scatter(test_data, test_labels, c='g', label='Test Data')\n",
    "    if predictions is not None:\n",
    "        ax.scatter(test_data, predictions, c='r', label='Predictions')\n",
    "    # legend in top left\n",
    "    ax.legend(loc='upper left')\n",
    "    ax.set_xlabel('X')\n",
    "    ax.set_ylabel('y')\n",
    "    ax.set_ylim([0, 1.8])\n",
    "    if save:\n",
    "        fig.savefig(f'LG_plots/epoch{epoch_num}.png')\n",
    "        plt.close(fig)\n",
    "        return\n",
    "    else:\n",
    "        plt.show()\n",
    "        # close the figure\n",
    "        plt.close(fig)\n",
    "\n",
    "plot_data()"
   ]
  },
  {
   "cell_type": "markdown",
   "metadata": {},
   "source": [
    "### PyTorch model building essentials\n",
    "\n",
    "- `torch.nn` is the PyTorch neural network library. It provides the building blocks to create neural networks.\n",
    "- `nn.Parameter` stores tensors that can be used with `nn.Module`. If `requires_grad=True`, the gradients are calculated automatically.\n",
    "- `nn.Module` is the base class for all neural network modules. It provides a common interface for all neural network modules. It also provides a mechanism for automatically registering parameters and submodules. Requires that a `forward` method is implemented.\n",
    "- `torch.optim` is the PyTorch optimization library. It provides the building blocks to create optimizers. Optimizers tell the models stored in nn.Parameter how best to improve gradient descent and decrease loss.\n",
    "- `def forward()` all nn.Module() subclasses require this method; it defines the computation that will take place on the data passed to the module. "
   ]
  },
  {
   "cell_type": "code",
   "execution_count": 122,
   "metadata": {},
   "outputs": [
    {
     "name": "stdout",
     "output_type": "stream",
     "text": [
      "[Parameter containing:\n",
      "tensor([0.8823], requires_grad=True), Parameter containing:\n",
      "tensor([0.9150], requires_grad=True)]\n",
      "OrderedDict([('weights', tensor([0.8823])), ('bias', tensor([0.9150]))])\n"
     ]
    }
   ],
   "source": [
    "### Build the model:\n",
    "class LinearRegressionModel(nn.Module): # <- Almost everything in PyTorch is a nn.Module subclass\n",
    "    def __init__(self):\n",
    "        super().__init__()              # <- Inherit from the parent class constructor\n",
    "\n",
    "        self.weights = nn.Parameter(torch.rand(1,       # start with a random weight that gets adjusted as the model learns\n",
    "                                requires_grad=True,     # we want to be able to adjust this weight\n",
    "                                dtype=torch.float32 \n",
    "        ))\n",
    "        self.bias = nn.Parameter(torch.rand(1,          # start with a random bias that gets adjusted as the model learns\n",
    "                                requires_grad=True,     # we want to be able to adjust this bias\n",
    "                                dtype=torch.float32 \n",
    "       ))\n",
    "\n",
    "    # forward defines the computation used in the model\n",
    "    def forward(self, x: torch.tensor) -> torch.tensor: # <- x is the input data\n",
    "        return self.weights * x + self.bias             # <- y = (weight)*x + bias  \n",
    "\n",
    "# set random seed since the weights and biases are initialized randomly:\n",
    "torch.manual_seed(42)\n",
    "\n",
    "# create an instance of the model:\n",
    "model_0 = LinearRegressionModel()\n",
    "\n",
    "# check the parameters within the nn.Module subclass that we created. NOTE this is a generator, so we need to list it:\n",
    "print(list(model_0.parameters()))\n",
    "\n",
    "# we can also get the \"state\" of the model using the state_dict method:\n",
    "print(model_0.state_dict())"
   ]
  },
  {
   "cell_type": "markdown",
   "metadata": {},
   "source": [
    "### Making predictions\n",
    "\n",
    "To check predictions, we can pass our x_test data to the model. Any data that we pass will go through the model's forward method and return the result of the computation that we have defined."
   ]
  },
  {
   "cell_type": "code",
   "execution_count": 123,
   "metadata": {},
   "outputs": [
    {
     "name": "stdout",
     "output_type": "stream",
     "text": [
      "tensor([[1.6208],\n",
      "        [1.6385],\n",
      "        [1.6561],\n",
      "        [1.6738],\n",
      "        [1.6914],\n",
      "        [1.7090],\n",
      "        [1.7267],\n",
      "        [1.7443],\n",
      "        [1.7620],\n",
      "        [1.7796]])\n"
     ]
    }
   ],
   "source": [
    "# torch.inference_mode() turns off a bunch of things (like gradient tracking, \n",
    "# #which is necessary for training but not for inference) to make forward-passes \n",
    "# (data going through the forward() method) faster.\n",
    "with torch.inference_mode():\n",
    "    y_pred = model_0(X_test)\n",
    "    print(y_pred)"
   ]
  },
  {
   "cell_type": "code",
   "execution_count": 124,
   "metadata": {},
   "outputs": [
    {
     "data": {
      "image/png": "[encoded data removed]",
      "text/plain": [
       "<Figure size 640x480 with 1 Axes>"
      ]
     },
     "metadata": {},
     "output_type": "display_data"
    }
   ],
   "source": [
    "plot_data(predictions=y_pred)"
   ]
  },
  {
   "cell_type": "markdown",
   "metadata": {},
   "source": [
    "### Train the model - Creating a loss function and optimizer in PyTorch\n",
    "\n",
    "#### Loss function\n",
    "- Measures how wrong your predictions are compared to ground truth\n",
    "- PyTorch has plenty of built-loss functions in `torch.nn`\n",
    "- commonly set to Mean Absolute Error MAE (`torch.nn.L1Loss()`) for regression or binary cross entropy (`torch.nn.BCELoss()`) for binary classification\n",
    "\n",
    "#### Optimizer\n",
    "- Tells the model how best to update its internal parameters to minimize loss\n",
    "- PyTorch has plenty of built-in optimizers in `torch.optim`\n",
    "- commonly set to stochastic gradient descent (`torch.optim.SGD()`) or Adam (`torch.optim.Adam()`)"
   ]
  },
  {
   "cell_type": "code",
   "execution_count": 125,
   "metadata": {},
   "outputs": [],
   "source": [
    "# loss function:\n",
    "loss_fn = nn.L1Loss()   # <- L1Loss is the same as MAE (mean absolute error)\n",
    "\n",
    "# optimizer:\n",
    "learning_rate = 0.01    # <- this is the learning rate, common values are 0.1, 0.01, 0.001, etc.\n",
    "optimizer = torch.optim.SGD(params = model_0.parameters(),\n",
    "                            lr = 0.001)"
   ]
  },
  {
   "cell_type": "markdown",
   "metadata": {},
   "source": [
    "### Create an optimization loop:\n",
    "\n",
    "The optimization loop involves both a `training loop`, where the model creates predictions and calculates losses based on the training data, as well as a a `testing loop` which involves the same thing on the test data. \n",
    "\n",
    "#### Training loop\n",
    "\n",
    "- `Forward pass`: use `model(x_train)` to go through all the training data once, using the computation defined in the model's forward method.\n",
    "- `Calculate loss`: use `loss = loss_fn(y_pred, y_train)` to compare the calculations to the ground truth and see how wrong they are.\n",
    "- `Zero Gradients`: use `optimizer.zero_grad()` to reset the gradients to zero (they are accumulated by default) before calculating the new gradients.\n",
    "- `Back propagation`: use `loss.backward()` to calculate the gradients of the loss with respect to each of the model's parameters.\n",
    "- `Update weights`: use `optimizer.step()` to update the model's parameters using the gradients calculated in the previous step.\n",
    "\n",
    "NOTE: While the above is a good default, the specific ordering of events is flexible. Some good rules of thumb are:\n",
    "- Calculate the loss before performing backpropagation\n",
    "- Zero the gradients before calculating the new gradients\n",
    "- Update the weights after calculating the new gradients\n",
    "\n",
    "#### Testing loop\n",
    "- `Forward pass`: use `model(x_train)` to go through all the training data once, using the computation defined in the model's forward method.\n",
    "- `Calculate loss`: use `loss = loss_fn(y_pred, y_train)` to compare the calculations to the ground truth and see how wrong they are.\n",
    "- `Calculate evaluation metrics`: Alongside the loss, you may want to calculate other metrics such as accuracy using custom eval functions"
   ]
  },
  {
   "cell_type": "code",
   "execution_count": 126,
   "metadata": {},
   "outputs": [
    {
     "name": "stdout",
     "output_type": "stream",
     "text": [
      "model params are [Parameter containing:\n",
      "tensor([0.8823], requires_grad=True), Parameter containing:\n",
      "tensor([0.9150], requires_grad=True)]\n",
      "model params are [Parameter containing:\n",
      "tensor([0.8823], requires_grad=True), Parameter containing:\n",
      "tensor([0.9150], requires_grad=True)]\n",
      "model params are [Parameter containing:\n",
      "tensor([0.8819], requires_grad=True), Parameter containing:\n",
      "tensor([0.9140], requires_grad=True)]\n"
     ]
    }
   ],
   "source": [
    "model_0.train()\n",
    "print(f'model params are {list(model_0.parameters())}')\n",
    "y_pred = model_0(X_train)\n",
    "loss = loss_fn(y_pred, y_train)\n",
    "loss.backward()\n",
    "print(f'model params are {list(model_0.parameters())}')\n",
    "optimizer.step()\n",
    "print(f'model params are {list(model_0.parameters())}')\n"
   ]
  },
  {
   "cell_type": "code",
   "execution_count": 127,
   "metadata": {},
   "outputs": [
    {
     "name": "stdout",
     "output_type": "stream",
     "text": [
      "epoch: 0 | MAE train loss: 0.684937 | MAE test loss: 0.774529\n",
      "epoch: 10 | MAE train loss: 0.673416 | MAE test loss: 0.761059\n",
      "epoch: 20 | MAE train loss: 0.661895 | MAE test loss: 0.747588\n",
      "epoch: 30 | MAE train loss: 0.650374 | MAE test loss: 0.734117\n",
      "epoch: 40 | MAE train loss: 0.638854 | MAE test loss: 0.720646\n",
      "epoch: 50 | MAE train loss: 0.627333 | MAE test loss: 0.707175\n",
      "epoch: 60 | MAE train loss: 0.615812 | MAE test loss: 0.693704\n",
      "epoch: 70 | MAE train loss: 0.604291 | MAE test loss: 0.680234\n",
      "epoch: 80 | MAE train loss: 0.59277 | MAE test loss: 0.666763\n",
      "epoch: 90 | MAE train loss: 0.581249 | MAE test loss: 0.653292\n",
      "epoch: 100 | MAE train loss: 0.569728 | MAE test loss: 0.639821\n",
      "epoch: 110 | MAE train loss: 0.558208 | MAE test loss: 0.626351\n",
      "epoch: 120 | MAE train loss: 0.546687 | MAE test loss: 0.61288\n",
      "epoch: 130 | MAE train loss: 0.535166 | MAE test loss: 0.599409\n",
      "epoch: 140 | MAE train loss: 0.523645 | MAE test loss: 0.585938\n",
      "epoch: 150 | MAE train loss: 0.512124 | MAE test loss: 0.572467\n",
      "epoch: 160 | MAE train loss: 0.500603 | MAE test loss: 0.558996\n",
      "epoch: 170 | MAE train loss: 0.489083 | MAE test loss: 0.545526\n",
      "epoch: 180 | MAE train loss: 0.477562 | MAE test loss: 0.532055\n",
      "epoch: 190 | MAE train loss: 0.466041 | MAE test loss: 0.518584\n",
      "epoch: 200 | MAE train loss: 0.45452 | MAE test loss: 0.505113\n",
      "epoch: 210 | MAE train loss: 0.442999 | MAE test loss: 0.491642\n",
      "epoch: 220 | MAE train loss: 0.431478 | MAE test loss: 0.478172\n",
      "epoch: 230 | MAE train loss: 0.419957 | MAE test loss: 0.464701\n",
      "epoch: 240 | MAE train loss: 0.408437 | MAE test loss: 0.45123\n",
      "epoch: 250 | MAE train loss: 0.396916 | MAE test loss: 0.437759\n",
      "epoch: 260 | MAE train loss: 0.385395 | MAE test loss: 0.424288\n",
      "epoch: 270 | MAE train loss: 0.373874 | MAE test loss: 0.410818\n",
      "epoch: 280 | MAE train loss: 0.362353 | MAE test loss: 0.397347\n",
      "epoch: 290 | MAE train loss: 0.350832 | MAE test loss: 0.383876\n",
      "epoch: 300 | MAE train loss: 0.339312 | MAE test loss: 0.370405\n",
      "epoch: 310 | MAE train loss: 0.327791 | MAE test loss: 0.356934\n",
      "epoch: 320 | MAE train loss: 0.31627 | MAE test loss: 0.343463\n",
      "epoch: 330 | MAE train loss: 0.304749 | MAE test loss: 0.329993\n",
      "epoch: 340 | MAE train loss: 0.293228 | MAE test loss: 0.316522\n",
      "epoch: 350 | MAE train loss: 0.281707 | MAE test loss: 0.303051\n",
      "epoch: 360 | MAE train loss: 0.270186 | MAE test loss: 0.28958\n",
      "epoch: 370 | MAE train loss: 0.258666 | MAE test loss: 0.276109\n",
      "epoch: 380 | MAE train loss: 0.247145 | MAE test loss: 0.262639\n",
      "epoch: 390 | MAE train loss: 0.235624 | MAE test loss: 0.249168\n",
      "epoch: 400 | MAE train loss: 0.224103 | MAE test loss: 0.235697\n",
      "epoch: 410 | MAE train loss: 0.212582 | MAE test loss: 0.222226\n",
      "epoch: 420 | MAE train loss: 0.201061 | MAE test loss: 0.208755\n",
      "epoch: 430 | MAE train loss: 0.189541 | MAE test loss: 0.195285\n",
      "epoch: 440 | MAE train loss: 0.17802 | MAE test loss: 0.181814\n",
      "epoch: 450 | MAE train loss: 0.166499 | MAE test loss: 0.168343\n",
      "epoch: 460 | MAE train loss: 0.154978 | MAE test loss: 0.154872\n",
      "epoch: 470 | MAE train loss: 0.143457 | MAE test loss: 0.141401\n",
      "epoch: 480 | MAE train loss: 0.131936 | MAE test loss: 0.127931\n",
      "epoch: 490 | MAE train loss: 0.120415 | MAE test loss: 0.11446\n",
      "epoch: 500 | MAE train loss: 0.108895 | MAE test loss: 0.100989\n",
      "epoch: 510 | MAE train loss: 0.097374 | MAE test loss: 0.087518\n",
      "epoch: 520 | MAE train loss: 0.085853 | MAE test loss: 0.074047\n",
      "epoch: 530 | MAE train loss: 0.074332 | MAE test loss: 0.060576\n",
      "epoch: 540 | MAE train loss: 0.062811 | MAE test loss: 0.047106\n",
      "epoch: 550 | MAE train loss: 0.05129 | MAE test loss: 0.033635\n",
      "epoch: 560 | MAE train loss: 0.03977 | MAE test loss: 0.020164\n",
      "epoch: 570 | MAE train loss: 0.028249 | MAE test loss: 0.006693\n",
      "epoch: 580 | MAE train loss: 0.016756 | MAE test loss: 0.006693\n",
      "epoch: 590 | MAE train loss: 0.011433 | MAE test loss: 0.014528\n",
      "epoch: 600 | MAE train loss: 0.00993 | MAE test loss: 0.017907\n",
      "epoch: 610 | MAE train loss: 0.009281 | MAE test loss: 0.01925\n",
      "epoch: 620 | MAE train loss: 0.008852 | MAE test loss: 0.019601\n",
      "epoch: 630 | MAE train loss: 0.008496 | MAE test loss: 0.019185\n",
      "epoch: 640 | MAE train loss: 0.008143 | MAE test loss: 0.01877\n",
      "epoch: 650 | MAE train loss: 0.007795 | MAE test loss: 0.018149\n",
      "epoch: 660 | MAE train loss: 0.007451 | MAE test loss: 0.017321\n",
      "epoch: 670 | MAE train loss: 0.007108 | MAE test loss: 0.016562\n",
      "epoch: 680 | MAE train loss: 0.006764 | MAE test loss: 0.015735\n",
      "epoch: 690 | MAE train loss: 0.00642 | MAE test loss: 0.014908\n",
      "epoch: 700 | MAE train loss: 0.006077 | MAE test loss: 0.014149\n",
      "epoch: 710 | MAE train loss: 0.005734 | MAE test loss: 0.013322\n",
      "epoch: 720 | MAE train loss: 0.00539 | MAE test loss: 0.012494\n",
      "epoch: 730 | MAE train loss: 0.005047 | MAE test loss: 0.011736\n",
      "epoch: 740 | MAE train loss: 0.004703 | MAE test loss: 0.010908\n",
      "epoch: 750 | MAE train loss: 0.00436 | MAE test loss: 0.010149\n",
      "epoch: 760 | MAE train loss: 0.004017 | MAE test loss: 0.009322\n",
      "epoch: 770 | MAE train loss: 0.003673 | MAE test loss: 0.008495\n",
      "epoch: 780 | MAE train loss: 0.003329 | MAE test loss: 0.007736\n",
      "epoch: 790 | MAE train loss: 0.002986 | MAE test loss: 0.006909\n",
      "epoch: 800 | MAE train loss: 0.002643 | MAE test loss: 0.006081\n",
      "epoch: 810 | MAE train loss: 0.002299 | MAE test loss: 0.005323\n",
      "epoch: 820 | MAE train loss: 0.001956 | MAE test loss: 0.004495\n",
      "epoch: 830 | MAE train loss: 0.001612 | MAE test loss: 0.003668\n",
      "epoch: 840 | MAE train loss: 0.001269 | MAE test loss: 0.002909\n",
      "epoch: 850 | MAE train loss: 0.000926 | MAE test loss: 0.002082\n",
      "epoch: 860 | MAE train loss: 0.000582 | MAE test loss: 0.001254\n",
      "epoch: 870 | MAE train loss: 0.000239 | MAE test loss: 0.000496\n",
      "epoch: 880 | MAE train loss: 0.000831 | MAE test loss: 0.000555\n",
      "epoch: 890 | MAE train loss: 0.000831 | MAE test loss: 0.000555\n",
      "epoch: 900 | MAE train loss: 0.000831 | MAE test loss: 0.000555\n",
      "epoch: 910 | MAE train loss: 0.000831 | MAE test loss: 0.000555\n",
      "epoch: 920 | MAE train loss: 0.000831 | MAE test loss: 0.000555\n",
      "epoch: 930 | MAE train loss: 0.000831 | MAE test loss: 0.000555\n",
      "epoch: 940 | MAE train loss: 0.000831 | MAE test loss: 0.000555\n",
      "epoch: 950 | MAE train loss: 0.000831 | MAE test loss: 0.000555\n",
      "epoch: 960 | MAE train loss: 0.000831 | MAE test loss: 0.000555\n",
      "epoch: 970 | MAE train loss: 0.000831 | MAE test loss: 0.000555\n",
      "epoch: 980 | MAE train loss: 0.000831 | MAE test loss: 0.000555\n",
      "epoch: 990 | MAE train loss: 0.000831 | MAE test loss: 0.000555\n"
     ]
    }
   ],
   "source": [
    "torch.manual_seed(42)\n",
    "\n",
    "epochs = 1000           # <- number of times we go through the entire training set   \n",
    "\n",
    "# create some empty loss lists so we can track the training and validation losses:\n",
    "train_losses = []\n",
    "test_losses = []\n",
    "epoch_num = []\n",
    "\n",
    "for epoch in range(epochs):\n",
    "\n",
    "    ### Training loop ###\n",
    "    model_0.train()                     # <- put the model in training mode\n",
    "    y_pred = model_0(X_train)           # <- predictions; this is a tensor of the same shape as y_train\n",
    "    loss = loss_fn(y_pred, y_train)     # <- scalar tensor describing the loss\n",
    "    optimizer.zero_grad()               # <- zero the gradients \n",
    "    loss.backward()                     # <- calculate the gradients\n",
    "    optimizer.step()                    # <- update the model parameters\n",
    "\n",
    "    model_0.eval()                      # If there are any specific layers that behave differently during training and inference,\n",
    "                                        # we need to tell the model to put those layers in inference mode.\n",
    "    with torch.inference_mode():        # <- this is the same as torch.no_grad(), but has better performance\n",
    "\n",
    "        test_pred = model_0(X_test)             # <- predictions; this is a tensor of the same shape as y_test\n",
    "        test_loss = loss_fn(test_pred, y_test)  # <- scalar tensor describing the loss\n",
    "\n",
    "        if epoch % 10 == 0:                     # <- record and print the loss every 10 epochs\n",
    "            '''\n",
    "            plot_data(predictions=test_pred,    # <- save the predictions for the epoch\n",
    "                    save=True,                  # uncomment this is you want to save new plots\n",
    "                    epoch_num=epoch\n",
    "                    )\n",
    "            '''\n",
    "            epoch_num.append(epoch)\n",
    "            train_losses.append(loss.item())\n",
    "            test_losses.append(test_loss.item())\n",
    "            print(f'epoch: {epoch} | MAE train loss: {round(loss.item(), 6)} | MAE test loss: {round(test_loss.item(), 6)}')"
   ]
  },
  {
   "cell_type": "code",
   "execution_count": 128,
   "metadata": {},
   "outputs": [
    {
     "data": {
      "image/png": "[encoded data removed]",
      "text/plain": [
       "<Figure size 640x480 with 1 Axes>"
      ]
     },
     "metadata": {},
     "output_type": "display_data"
    }
   ],
   "source": [
    "# Let's visualize the training and test loss:\n",
    "fig, ax = plt.subplots()\n",
    "ax.plot(epoch_num, train_losses, c='red', label='Training Loss')\n",
    "ax.plot(epoch_num, test_losses, c='green', label='Test Loss')\n",
    "ax.legend()\n",
    "ax.set_xlabel('Epoch')\n",
    "ax.set_ylabel('MAE')\n",
    "plt.show()"
   ]
  },
  {
   "cell_type": "code",
   "execution_count": 129,
   "metadata": {},
   "outputs": [
    {
     "data": {
      "image/png": "[encoded data removed]",
      "text/plain": [
       "<Figure size 640x480 with 1 Axes>"
      ]
     },
     "metadata": {},
     "output_type": "display_data"
    }
   ],
   "source": [
    "# Let's visualize the accuracy of the predictions relative to ground truth:\n",
    "plot_data(predictions=test_pred)"
   ]
  },
  {
   "cell_type": "code",
   "execution_count": 131,
   "metadata": {},
   "outputs": [
    {
     "name": "stdout",
     "output_type": "stream",
     "text": [
      "The model learned the following values for weights and bias:\n",
      "OrderedDict([('weights', tensor([0.6999])), ('bias', tensor([0.3009]))])\n",
      "\n",
      "And the original values for weights and bias are:\n",
      "weights: 0.7, bias: 0.3\n"
     ]
    }
   ],
   "source": [
    "# Find our model's learned parameters\n",
    "print(\"The model learned the following values for weights and bias:\")\n",
    "print(model_0.state_dict())\n",
    "print(\"\\nAnd the original values for weights and bias are:\")\n",
    "print(f\"weights: {weight}, bias: {bias}\")"
   ]
  },
  {
   "cell_type": "markdown",
   "metadata": {},
   "source": [
    "### Saving a PyTorch model\n",
    "\n",
    "The recommended way to save a model is by saving and loading the model's state dictionary using `torch.save(model_name.state_dict(), save_path)`. This contains all the information about the model's parameters."
   ]
  },
  {
   "cell_type": "code",
   "execution_count": 133,
   "metadata": {},
   "outputs": [
    {
     "name": "stdout",
     "output_type": "stream",
     "text": [
      "Saving model to models/01_pytorch_workflow_model_0.pth\n"
     ]
    }
   ],
   "source": [
    "from pathlib import Path\n",
    "\n",
    "MODEL_PATH = Path('models')\n",
    "MODEL_PATH.mkdir(parents = True, exist_ok=True)\n",
    "MODEL_NAME = '01_pytorch_workflow_model_0.pth'\n",
    "MODEL_SAVE_PATH = MODEL_PATH / MODEL_NAME\n",
    "\n",
    "print(f'Saving model to {MODEL_SAVE_PATH}')\n",
    "torch.save( obj = model_0.state_dict(), # only saving the learned parameters\n",
    "            f = MODEL_SAVE_PATH)"
   ]
  },
  {
   "cell_type": "markdown",
   "metadata": {},
   "source": [
    "### Loading a PyTorch model\n",
    "\n",
    "Since we've now got a saved model `state_dict()` at `models/01_pytorch_workflow_model_0.pth` we can now load it in using `torch.nn.Module.load_state_dict(torch.load(f))` where f is the filepath of our saved model `state_dict()`\n",
    "\n",
    "Why not just save the entire model? This works also, but is more brittle and prone to errors. The preferred approach is to make a new object of the model class, and then load the state dictionary into that object."
   ]
  },
  {
   "cell_type": "code",
   "execution_count": 134,
   "metadata": {},
   "outputs": [
    {
     "data": {
      "text/plain": [
       "<All keys matched successfully>"
      ]
     },
     "execution_count": 134,
     "metadata": {},
     "output_type": "execute_result"
    }
   ],
   "source": [
    "# let's create a new model:\n",
    "loaded_model_0 = LinearRegressionModel()\n",
    "\n",
    "# and load the learned parameters into it:\n",
    "loaded_model_0.load_state_dict(torch.load(MODEL_SAVE_PATH))"
   ]
  },
  {
   "cell_type": "markdown",
   "metadata": {},
   "source": [
    "Let's evaluate the loaded model and make sure it's working correctly:"
   ]
  },
  {
   "cell_type": "code",
   "execution_count": 136,
   "metadata": {},
   "outputs": [
    {
     "name": "stdout",
     "output_type": "stream",
     "text": [
      "Are the loaded predictions the same as the original predictions? True\n"
     ]
    }
   ],
   "source": [
    "# put model into eval/inf mode:\n",
    "loaded_model_0.eval()\n",
    "with torch.inference_mode():\n",
    "    loaded_model_0_pred = loaded_model_0(X_test)\n",
    "\n",
    "# See is the loaded predictions are the same as the original predictions:\n",
    "# NOTE: torch.allclose() refturns True if two arrays are equal within rel and abs tolerance (default 1e-5 and 1d-8)\n",
    "print(f'Are the loaded predictions the same as the original predictions? {torch.allclose(loaded_model_0_pred, test_pred)}')"
   ]
  },
  {
   "cell_type": "markdown",
   "metadata": {},
   "source": [
    "# Polynomial"
   ]
  },
  {
   "cell_type": "code",
   "execution_count": null,
   "metadata": {},
   "outputs": [],
   "source": [
    "# f(x) = 2x^6, "
   ]
  }
 ],
 "metadata": {
  "kernelspec": {
   "display_name": "Python 3.10.6 ('pytorch')",
   "language": "python",
   "name": "python3"
  },
  "language_info": {
   "codemirror_mode": {
    "name": "ipython",
    "version": 3
   },
   "file_extension": ".py",
   "mimetype": "text/x-python",
   "name": "python",
   "nbconvert_exporter": "python",
   "pygments_lexer": "ipython3",
   "version": "3.10.6"
  },
  "orig_nbformat": 4,
  "vscode": {
   "interpreter": {
    "hash": "d3f592253dba73aa42ad14f8f4aa12eb8002a39a6643fdd1e0015a097c39de3b"
   }
  }
 },
 "nbformat": 4,
 "nbformat_minor": 2
}
